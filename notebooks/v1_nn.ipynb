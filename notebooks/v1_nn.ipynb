{
 "cells": [
  {
   "cell_type": "markdown",
   "id": "ce2268d5",
   "metadata": {},
   "source": [
    "## <span style=\"color: Orange;\">**Neural Network Model**</span>\n",
    "Environment setup, config-driven data loading, two MLPs (engineered/raw), Lightning training, evaluation, permutation importance, and combined-feature retraining workflow summarized below.\n",
    "\n",
    "**Index**\n",
    "- [Section I: Environment Setup and Reproducibility](#section-i-environment-setup-and-reproducibility)\n",
    "- [Section II: Configuration, Dataset Preparation, and DataLoaders](#section-ii-configuration-dataset-preparation-and-dataloaders)\n",
    "- [Section III: Model Architecture and Training Module](#section-iii-model-architecture-and-training-module)\n",
    "- [Section IV: Engineered Features Training and Monitoring (ENG Pool)](#section-iv-engineered-features-training-and-monitoring-eng-pool)\n",
    "- [Section V: Evaluation — Classification Reports (ENG Pool)](#section-v-evaluation--classification-reports-eng-pool)\n",
    "- [Section VI: Permutation Feature Importance (ENG Pool)](#section-vi-permutation-feature-importance-eng-pool)\n",
    "- [Section VII: Raw Features Training and Monitoring (RAW Pool)](#section-vii-raw-features-training-and-monitoring-raw-pool)\n",
    "- [Section VIII: Evaluation — Classification Reports (RAW Pool)](#section-viii-evaluation--classification-reports-raw-pool)\n",
    "- [Section IX: Permutation Feature Importance (RAW Pool)](#section-ix-permutation-feature-importance-raw-pool)\n",
    "- [Section X: Feature Selection and Combined-Feature Training](#section-x-feature-selection-and-combined-feature-training)\n",
    "\n",
    "**Notebook summary**\n",
    "\n",
    "- The workflow begins by enforcing deterministic behavior and mixed-precision preferences, then loads dataset paths and runtime parameters from YAML for reproducible, configurable experiments.  \n",
    "- Datasets for engineered and raw features are prepared with train/validation/test splits and wrapped in efficient DataLoaders to support GPU training and fast I/O.  \n",
    "- Separate MLPs for each feature pool are defined and encapsulated in a training module that handles optimization, logging, and malignant-class recall tracking per epoch.  \n",
    "- Each model is trained with GPU acceleration and cosine-annealed learning rates, followed by validation/test classification reports to compare precision, recall, F1, and accuracy.  \n",
    "- Permutation importance on the validation split quantifies feature influence for both pools; important features are selected via a simple threshold on mean accuracy drop.  \n",
    "- A combined dataset is built from the union of selected features, a corresponding\n"
   ]
  },
  {
   "cell_type": "markdown",
   "id": "226d4096",
   "metadata": {},
   "source": [
    "### <span style=\"color: Orange;\">**Section I: Environment Setup and Reproducibility**</span>\n",
    "\n",
    "- Configure deterministic behavior for CUDA operations  \n",
    "- Import essential Python, data science, and PyTorch libraries  \n",
    "- Set seed values across libraries to ensure reproducible results  \n",
    "\n",
    "In this section, we begin by configuring the environment to promote reproducible and stable training runs. The `CUBLAS_WORKSPACE_CONFIG` environment variable is set before importing PyTorch to enforce deterministic behavior for certain CUDA operations. After this, we import frequently used libraries for data handling, visualization, and deep learning. Additionally, PyTorch’s floating-point precision mode is adjusted to `'medium'` for improved performance during F32 matrix multiplications. To guarantee experiment reproducibility, a `set_seed` function is defined to seed Python’s `random`, NumPy, and PyTorch (CPU and GPU) operations. This also controls deterministic execution policies in PyTorch’s backend, ensuring that results remain consistent across multiple runs of the notebook.  \n"
   ]
  },
  {
   "cell_type": "code",
   "execution_count": 30,
   "id": "b536f4b0",
   "metadata": {},
   "outputs": [],
   "source": [
    "# Set environment variable for determinism before import Torch\n",
    "import os\n",
    "os.environ[\"CUBLAS_WORKSPACE_CONFIG\"] = \":4096:8\""
   ]
  },
  {
   "cell_type": "code",
   "execution_count": 31,
   "id": "c3fb60c0",
   "metadata": {},
   "outputs": [],
   "source": [
    "# Importing the libraries and setting the floating point precision to medium for F32 calculation for performance gains\n",
    "import random\n",
    "import pandas as pd\n",
    "import numpy as np\n",
    "import matplotlib.pyplot as plt\n",
    "import seaborn as sns\n",
    "from torch.utils.data import DataLoader, Subset, Dataset\n",
    "import torch.nn as nn\n",
    "import torch\n",
    "import torch.nn.functional as F\n",
    "torch.set_float32_matmul_precision('medium')"
   ]
  },
  {
   "cell_type": "code",
   "execution_count": 32,
   "id": "00c6ab00",
   "metadata": {},
   "outputs": [],
   "source": [
    "# Seeding the notebook session for reproducible workflow\n",
    "def set_seed(seed: int = 42, deterministic: bool = True):\n",
    "    os.environ[\"PYTHONHASHSEED\"] = str(seed)\n",
    "    random.seed(seed)\n",
    "    np.random.seed(seed)\n",
    "\n",
    "    torch.manual_seed(seed)\n",
    "    if torch.cuda.is_available():\n",
    "        torch.cuda.manual_seed(seed)\n",
    "        torch.cuda.manual_seed_all(seed)\n",
    "\n",
    "    if deterministic:\n",
    "        torch.backends.cudnn.deterministic = True\n",
    "        torch.backends.cudnn.benchmark = False\n",
    "        try:\n",
    "            torch.use_deterministic_algorithms(True)\n",
    "        except Exception:\n",
    "            pass\n",
    "    else:\n",
    "        torch.backends.cudnn.deterministic = False\n",
    "        torch.backends.cudnn.benchmark = True\n",
    "\n",
    "set_seed(42, deterministic=True)"
   ]
  },
  {
   "cell_type": "markdown",
   "id": "232238df",
   "metadata": {},
   "source": [
    "### <span style=\"color: Orange;\">**Section II: Configuration, Dataset Preparation, and DataLoaders**</span>\n",
    "\n",
    "- Read notebook-specific configurations from an external YAML file  \n",
    "- Define a custom `CancerDataset` class for structured dataset handling  \n",
    "- Initialize engineered and raw feature datasets (train/val/test splits)  \n",
    "- Wrap datasets with PyTorch `DataLoader` for efficient batching and parallel loading  \n",
    "\n",
    "In this section, we load notebook-level configurations from a YAML file to ensure flexibility and external control over dataset paths and neural network settings such as batch size, worker threads, memory pinning, and persistent workers. A custom dataset class, `CancerDataset`, is implemented to handle CSV-based feature and target files, optionally applying feature selection and validating input consistency. This class converts features and labels into NumPy arrays and subsequently into PyTorch tensors, making them directly usable in training pipelines. After dataset initialization for both **engineered features** and **raw features**, PyTorch `DataLoader` objects are created for each split (train, validation, test), enabling shuffling, multiprocessing, and optimized GPU memory transfer during model training and evaluation.\n"
   ]
  },
  {
   "cell_type": "code",
   "execution_count": 33,
   "id": "36595ee0",
   "metadata": {},
   "outputs": [],
   "source": [
    "# Loading the notebook cofigurations\n",
    "import yaml\n",
    "with open(\"../notebook_config.yaml\", \"rb\") as f:\n",
    "    config = yaml.safe_load(f)\n",
    "    X_train_eng, X_val_eng, X_test_eng = config['paths'][\"X_train_eng\"], config['paths'][\"X_val_eng\"], config['paths'][\"X_test_eng\"]\n",
    "    y_train_eng, y_val_eng, y_test_eng = config['paths'][\"y_train_eng\"], config['paths'][\"y_val_eng\"], config['paths'][\"y_test_eng\"]\n",
    "    \n",
    "    X_train_raw, X_val_raw, X_test_raw = config['paths'][\"X_train_raw\"], config['paths'][\"X_val_raw\"], config['paths'][\"X_test_raw\"]\n",
    "    y_train_raw, y_val_raw, y_test_raw = config['paths'][\"y_train_raw\"], config['paths'][\"y_val_raw\"], config['paths'][\"y_test_raw\"]\n",
    "\n",
    "    X_train, X_val, X_test = config['paths'][\"X_train\"], config['paths'][\"X_val\"], config['paths'][\"X_test\"]\n",
    "    y_train, y_val, y_test = config['paths'][\"y_train\"], config['paths'][\"y_val\"], config['paths'][\"y_test\"]\n",
    "\n",
    "    batch_size = config['nn_config']['batch_size']\n",
    "    num_workers = config['nn_config']['num_workers']\n",
    "    pin_memory = config['nn_config']['pin_memory']\n",
    "    persistent_workers = config[\"nn_config\"]['persistent_workers']"
   ]
  },
  {
   "cell_type": "code",
   "execution_count": 34,
   "id": "b0b4e505",
   "metadata": {},
   "outputs": [],
   "source": [
    "class CancerDataset(Dataset):\n",
    "    def __init__(self, feature_path, target_path, use_filter=False, feature_filter=None, dtype_feat=\"float32\"):\n",
    "        super().__init__()\n",
    "        dfX = pd.read_csv(feature_path)\n",
    "        y = pd.read_csv(target_path).squeeze()\n",
    "\n",
    "        if use_filter and feature_filter:\n",
    "            missing = [c for c in feature_filter if c not in dfX.columns]\n",
    "            if missing:\n",
    "                raise ValueError(f\"Columns not found in {feature_path}: {missing}\")\n",
    "            dfX = dfX.loc[:, feature_filter]\n",
    "\n",
    "        # Store as numpy arrays\n",
    "        self.features = dfX.to_numpy(dtype=dtype_feat, copy=True)\n",
    "        self.targets = y.to_numpy(dtype=\"int64\", copy=True)\n",
    "\n",
    "        if len(self.features) != len(self.targets):\n",
    "            raise ValueError(f\"Row count mismatch: X={len(self.features)} vs y={len(self.targets)}\")\n",
    "\n",
    "    def __len__(self):\n",
    "        return len(self.targets)\n",
    "\n",
    "    def __getitem__(self, idx):\n",
    "        x = torch.from_numpy(self.features[idx])\n",
    "        y = torch.tensor(self.targets[idx], dtype=torch.int64)\n",
    "        return x, y\n",
    "\n",
    "train_dataset_eng = CancerDataset(X_train_eng, y_train_eng)\n",
    "val_dataset_eng = CancerDataset(X_val_eng, y_val_eng)\n",
    "test_dataset_eng = CancerDataset(X_test_eng, y_test_eng)\n",
    "\n",
    "train_dataset_raw = CancerDataset(X_train_raw, y_train_raw)\n",
    "val_dataset_raw = CancerDataset(X_val_raw, y_val_raw)\n",
    "test_dataset_raw = CancerDataset(X_test_raw, y_test_raw)"
   ]
  },
  {
   "cell_type": "code",
   "execution_count": 35,
   "id": "2192cf9e",
   "metadata": {},
   "outputs": [],
   "source": [
    "train_loader_eng = DataLoader(\n",
    "    train_dataset_eng,\n",
    "    batch_size=batch_size,\n",
    "    num_workers=num_workers,\n",
    "    shuffle=True,\n",
    "    pin_memory=pin_memory,\n",
    "    persistent_workers=persistent_workers\n",
    ")\n",
    "val_loader_eng = DataLoader(\n",
    "    val_dataset_eng,\n",
    "    batch_size=batch_size,\n",
    "    num_workers=num_workers,\n",
    "    shuffle=False,\n",
    "    pin_memory=pin_memory,\n",
    "    persistent_workers=persistent_workers\n",
    ")\n",
    "test_loader_eng = DataLoader(\n",
    "    test_dataset_eng,\n",
    "    batch_size=batch_size,\n",
    "    num_workers=num_workers,\n",
    "    shuffle=False,\n",
    "    pin_memory=pin_memory,\n",
    "    persistent_workers=persistent_workers\n",
    ")\n",
    "\n",
    "train_loader_raw = DataLoader(\n",
    "    train_dataset_raw,\n",
    "    batch_size=batch_size,\n",
    "    num_workers=num_workers,\n",
    "    shuffle=True,\n",
    "    pin_memory=pin_memory,\n",
    "    persistent_workers=persistent_workers\n",
    ")\n",
    "val_loader_raw = DataLoader(\n",
    "    val_dataset_raw,\n",
    "    batch_size=batch_size,\n",
    "    num_workers=num_workers,\n",
    "    shuffle=False,\n",
    "    pin_memory=pin_memory,\n",
    "    persistent_workers=persistent_workers\n",
    ")\n",
    "test_loader_raw = DataLoader(\n",
    "    test_dataset_raw,\n",
    "    batch_size=batch_size,\n",
    "    num_workers=num_workers,\n",
    "    shuffle=False,\n",
    "    pin_memory=pin_memory,\n",
    "    persistent_workers=persistent_workers\n",
    ")"
   ]
  },
  {
   "cell_type": "markdown",
   "id": "c741250e",
   "metadata": {},
   "source": [
    "### <span style=\"color: Orange;\">**Section III: Model Architecture and Training Module**</span>\n",
    "\n",
    "- Define separate MLP-based models for engineered and raw features  \n",
    "- Use batch normalization, ReLU activations, and dropout for stability and regularization  \n",
    "- Wrap models inside a PyTorch Lightning module (`LitModel`) to streamline training and evaluation  \n",
    "- Implement epoch-level malignant recall tracking for deeper performance analysis  \n",
    "\n",
    "This section introduces the deep learning model design. Two feedforward neural network classes, `EngModel` (for engineered features) and `RawModel` (for raw features), are implemented as multi-layer perceptrons (MLPs) with linear layers, batch normalization, ReLU activations, and dropout for regularization. Both architectures are designed to project high-dimensional input features into class predictions.  \n",
    "To simplify and standardize the training pipeline, a custom PyTorch Lightning module (`LitModel`) is defined. This wrapper encapsulates the underlying model while handling forward propagation, training and validation steps, optimizer setup, and learning-rate scheduling. In addition to standard logging of loss values, the module accumulates predictions and targets across each epoch to compute **recall for the malignant class**, a clinically significant metric in cancer detection. This ensures that the model is evaluated not only on overall loss but also on its ability to correctly identify malignant cases, which is critical in such domains.  \n"
   ]
  },
  {
   "cell_type": "code",
   "execution_count": 36,
   "id": "ec6fb276",
   "metadata": {},
   "outputs": [],
   "source": [
    "# Model Definitions\n",
    "class EngModel(nn.Module):\n",
    "    def __init__(self, input_features, num_classes):\n",
    "        super(EngModel, self).__init__()\n",
    "        self.mlp = nn.Sequential(\n",
    "            nn.Linear(input_features, 256),\n",
    "            nn.BatchNorm1d(256),\n",
    "            nn.ReLU(inplace=True),\n",
    "            nn.Linear(256, 512),\n",
    "            nn.BatchNorm1d(512),\n",
    "            nn.ReLU(inplace=True),\n",
    "            nn.Dropout(0.25),\n",
    "            nn.Linear(512, num_classes),\n",
    "        )\n",
    "    \n",
    "    def forward(self, x):\n",
    "        x = self.mlp(x)\n",
    "        return x\n",
    "\n",
    "class RawModel(nn.Module):\n",
    "    def __init__(self, input_features, num_classes):\n",
    "        super(RawModel, self).__init__()\n",
    "        self.mlp = nn.Sequential(\n",
    "            nn.Linear(input_features, 256),\n",
    "            nn.BatchNorm1d(256),\n",
    "            nn.ReLU(inplace=True),\n",
    "            nn.Linear(256, 512),\n",
    "            nn.BatchNorm1d(512),\n",
    "            nn.ReLU(inplace=True),\n",
    "            nn.Dropout(0.25),\n",
    "            nn.Linear(512, num_classes),\n",
    "        )\n",
    "    def forward(self, x):\n",
    "        x = self.mlp(x)\n",
    "        return x"
   ]
  },
  {
   "cell_type": "code",
   "execution_count": 37,
   "id": "7de79937",
   "metadata": {},
   "outputs": [],
   "source": [
    "import lightning as L\n",
    "import torch\n",
    "import torch.nn.functional as F\n",
    "from sklearn.metrics import classification_report\n",
    "\n",
    "class LitModel(L.LightningModule):\n",
    "    def __init__(\n",
    "        self,\n",
    "        model,\n",
    "        learning_rate: float = 1e-3,\n",
    "        weight_decay: float = 1e-4,\n",
    "        min_eta: float = 1e-5,\n",
    "        max_epochs: int = 10,\n",
    "    ):\n",
    "        super().__init__()\n",
    "        self.model = model\n",
    "        self.lr = learning_rate\n",
    "        self.weight_decay = weight_decay\n",
    "        self.min_eta = min_eta\n",
    "        self.max_epochs = max_epochs\n",
    "\n",
    "        # Learning-curve accumulators: malignant (class 1) recall per epoch\n",
    "        self.train_recall_mal_accum = []\n",
    "        self.val_recall_mal_accum = []\n",
    "\n",
    "        # Per-epoch caches for preds/targets (used ONLY to compute malignant recall)\n",
    "        self.train_preds_epoch = []\n",
    "        self.train_targets_epoch = []\n",
    "        self.val_preds_epoch = []\n",
    "        self.val_targets_epoch = []\n",
    "\n",
    "    def forward(self, x):\n",
    "        return self.model(x)\n",
    "\n",
    "    # ------------------- TRAINING -------------------\n",
    "    def training_step(self, batch, batch_idx):\n",
    "        x, y = batch\n",
    "        y = y.long()\n",
    "        logits = self(x)\n",
    "        loss = F.cross_entropy(logits, y)\n",
    "        preds = torch.argmax(logits, dim=1)\n",
    "\n",
    "        # cache for per-class recall via sklearn after epoch\n",
    "        self.train_preds_epoch.append(preds.detach().cpu())\n",
    "        self.train_targets_epoch.append(y.detach().cpu())\n",
    "\n",
    "        self.log(\"train_loss\", loss, on_step=True, on_epoch=True, prog_bar=True, batch_size=x.size(0))\n",
    "        return loss\n",
    "\n",
    "    def on_train_epoch_end(self):\n",
    "        # Compute malignant recall from cached preds/targets\n",
    "        if self.train_preds_epoch:\n",
    "            preds = torch.cat(self.train_preds_epoch)\n",
    "            targets = torch.cat(self.train_targets_epoch)\n",
    "            self.train_preds_epoch.clear()\n",
    "            self.train_targets_epoch.clear()\n",
    "\n",
    "            rep = classification_report(\n",
    "                targets.numpy(),\n",
    "                preds.numpy(),\n",
    "                labels=[0, 1],\n",
    "                target_names=[\"Benign\", \"Malignant\"],\n",
    "                output_dict=True,\n",
    "                zero_division=0,\n",
    "            )\n",
    "            mal_recall = rep.get(\"Malignant\", {}).get(\"recall\", 0.0)\n",
    "            self.train_recall_mal_accum.append(float(mal_recall))\n",
    "        else:\n",
    "            self.train_recall_mal_accum.append(0.0)\n",
    "\n",
    "    # ------------------- VALIDATION -------------------\n",
    "    def validation_step(self, batch, batch_idx):\n",
    "        x, y = batch\n",
    "        y = y.long()\n",
    "        logits = self(x)\n",
    "        loss = F.cross_entropy(logits, y)\n",
    "        preds = torch.argmax(logits, dim=1)\n",
    "\n",
    "        self.val_preds_epoch.append(preds.detach().cpu())\n",
    "        self.val_targets_epoch.append(y.detach().cpu())\n",
    "\n",
    "        self.log(\"val_loss\", loss, on_step=True, on_epoch=True, prog_bar=True, batch_size=x.size(0))\n",
    "        return loss\n",
    "\n",
    "    def on_validation_epoch_end(self):\n",
    "        if self.val_preds_epoch:\n",
    "            preds = torch.cat(self.val_preds_epoch)\n",
    "            targets = torch.cat(self.val_targets_epoch)\n",
    "            self.val_preds_epoch.clear()\n",
    "            self.val_targets_epoch.clear()\n",
    "\n",
    "            rep = classification_report(\n",
    "                targets.numpy(),\n",
    "                preds.numpy(),\n",
    "                labels=[0, 1],\n",
    "                target_names=[\"Benign\", \"Malignant\"],\n",
    "                output_dict=True,\n",
    "                zero_division=0,\n",
    "            )\n",
    "            mal_recall = rep.get(\"Malignant\", {}).get(\"recall\", 0.0)\n",
    "            self.val_recall_mal_accum.append(float(mal_recall))\n",
    "        else:\n",
    "            self.val_recall_mal_accum.append(0.0)\n",
    "\n",
    "    # ------------------- OPTIMIZER / SCHEDULER -------------------\n",
    "    def configure_optimizers(self):\n",
    "        optimizer = torch.optim.Adam(self.parameters(), lr=self.lr, weight_decay=self.weight_decay)\n",
    "        scheduler = torch.optim.lr_scheduler.CosineAnnealingLR(\n",
    "            optimizer, T_max=self.max_epochs, eta_min=self.min_eta\n",
    "        )\n",
    "        return {\"optimizer\": optimizer, \"lr_scheduler\": scheduler}"
   ]
  },
  {
   "cell_type": "markdown",
   "id": "2ffd649a",
   "metadata": {},
   "source": [
    "### <span style=\"color: Orange;\">**Section IV: Engineered Features Training and Monitoring (ENG Pool)**</span>\n",
    "\n",
    "- Initialize a Lightning trainer with GPU acceleration and mixed precision (16-bit autocast)\n",
    "- Train the engineered-features MLP with cosine annealing learning-rate scheduling\n",
    "- Plot epoch-wise malignant-class recall to monitor class-sensitive learning\n",
    "\n",
    "This section configures and runs training for the engineered-features model using a GPU-accelerated trainer with mixed precision to improve throughput and reduce memory usage while preserving FP32 stability for weights. The engineered MLP is wrapped in the Lightning training module and optimized over a fixed epoch budget with CosineAnnealingLR, which smoothly decays the learning rate toward a specified floor without restarts. During training and validation, malignant-class recall is accumulated per epoch to emphasize sensitivity to the positive class; the provided plotting helper then visualizes training and validation recall trajectories, enabling quick checks for generalization gaps, instability, or underfitting.\n"
   ]
  },
  {
   "cell_type": "code",
   "execution_count": 38,
   "id": "4e1704ce",
   "metadata": {},
   "outputs": [
    {
     "name": "stderr",
     "output_type": "stream",
     "text": [
      "Using 16bit Automatic Mixed Precision (AMP)\n",
      "💡 Tip: For seamless cloud uploads and versioning, try installing [litmodels](https://pypi.org/project/litmodels/) to enable LitModelCheckpoint, which syncs automatically with the Lightning model registry.\n",
      "GPU available: True (cuda), used: True\n",
      "TPU available: False, using: 0 TPU cores\n",
      "HPU available: False, using: 0 HPUs\n",
      "LOCAL_RANK: 0 - CUDA_VISIBLE_DEVICES: [0]\n",
      "d:\\Coding\\bcd_mal\\venv\\Lib\\site-packages\\lightning\\pytorch\\utilities\\model_summary\\model_summary.py:231: Precision 16-mixed is not supported by the model summary.  Estimated model size in MB will not be accurate. Using 32 bits instead.\n",
      "\n",
      "  | Name  | Type     | Params | Mode \n",
      "-------------------------------------------\n",
      "0 | model | EngModel | 139 K  | train\n",
      "-------------------------------------------\n",
      "139 K     Trainable params\n",
      "0         Non-trainable params\n",
      "139 K     Total params\n",
      "0.558     Total estimated model params size (MB)\n",
      "10        Modules in train mode\n",
      "0         Modules in eval mode\n",
      "d:\\Coding\\bcd_mal\\venv\\Lib\\site-packages\\lightning\\pytorch\\trainer\\connectors\\data_connector.py:433: The 'train_dataloader' does not have many workers which may be a bottleneck. Consider increasing the value of the `num_workers` argument` to `num_workers=15` in the `DataLoader` to improve performance.\n",
      "d:\\Coding\\bcd_mal\\venv\\Lib\\site-packages\\lightning\\pytorch\\trainer\\connectors\\data_connector.py:433: The 'val_dataloader' does not have many workers which may be a bottleneck. Consider increasing the value of the `num_workers` argument` to `num_workers=15` in the `DataLoader` to improve performance.\n"
     ]
    },
    {
     "data": {
      "application/vnd.jupyter.widget-view+json": {
       "model_id": "77b5a5a6f8094385a1ca5ff6467530dd",
       "version_major": 2,
       "version_minor": 0
      },
      "text/plain": [
       "Training: |          | 0/? [00:00<?, ?it/s]"
      ]
     },
     "metadata": {},
     "output_type": "display_data"
    },
    {
     "data": {
      "application/vnd.jupyter.widget-view+json": {
       "model_id": "55d42a8999444e58a7ad7b4b93642458",
       "version_major": 2,
       "version_minor": 0
      },
      "text/plain": [
       "Validation: |          | 0/? [00:00<?, ?it/s]"
      ]
     },
     "metadata": {},
     "output_type": "display_data"
    },
    {
     "data": {
      "application/vnd.jupyter.widget-view+json": {
       "model_id": "ae8cb18613f04428b5b0b5f104986575",
       "version_major": 2,
       "version_minor": 0
      },
      "text/plain": [
       "Validation: |          | 0/? [00:00<?, ?it/s]"
      ]
     },
     "metadata": {},
     "output_type": "display_data"
    },
    {
     "data": {
      "application/vnd.jupyter.widget-view+json": {
       "model_id": "393b3dc0bc0b49f695ed4c2387d73281",
       "version_major": 2,
       "version_minor": 0
      },
      "text/plain": [
       "Validation: |          | 0/? [00:00<?, ?it/s]"
      ]
     },
     "metadata": {},
     "output_type": "display_data"
    },
    {
     "data": {
      "application/vnd.jupyter.widget-view+json": {
       "model_id": "179538dca23e47ef996c2e2b3f0c5968",
       "version_major": 2,
       "version_minor": 0
      },
      "text/plain": [
       "Validation: |          | 0/? [00:00<?, ?it/s]"
      ]
     },
     "metadata": {},
     "output_type": "display_data"
    },
    {
     "data": {
      "application/vnd.jupyter.widget-view+json": {
       "model_id": "5ee3d5f81cc64df7934452d95ae6e7f7",
       "version_major": 2,
       "version_minor": 0
      },
      "text/plain": [
       "Validation: |          | 0/? [00:00<?, ?it/s]"
      ]
     },
     "metadata": {},
     "output_type": "display_data"
    },
    {
     "data": {
      "application/vnd.jupyter.widget-view+json": {
       "model_id": "eb1890d819504d77be4496dce2b7ea11",
       "version_major": 2,
       "version_minor": 0
      },
      "text/plain": [
       "Validation: |          | 0/? [00:00<?, ?it/s]"
      ]
     },
     "metadata": {},
     "output_type": "display_data"
    },
    {
     "data": {
      "application/vnd.jupyter.widget-view+json": {
       "model_id": "8d9050bd72d742f8b721d90a2674c48f",
       "version_major": 2,
       "version_minor": 0
      },
      "text/plain": [
       "Validation: |          | 0/? [00:00<?, ?it/s]"
      ]
     },
     "metadata": {},
     "output_type": "display_data"
    },
    {
     "data": {
      "application/vnd.jupyter.widget-view+json": {
       "model_id": "b60c7f18819349d98c6234aad8e6e70f",
       "version_major": 2,
       "version_minor": 0
      },
      "text/plain": [
       "Validation: |          | 0/? [00:00<?, ?it/s]"
      ]
     },
     "metadata": {},
     "output_type": "display_data"
    },
    {
     "data": {
      "application/vnd.jupyter.widget-view+json": {
       "model_id": "735ef60b032f44c591476768eaaeccf8",
       "version_major": 2,
       "version_minor": 0
      },
      "text/plain": [
       "Validation: |          | 0/? [00:00<?, ?it/s]"
      ]
     },
     "metadata": {},
     "output_type": "display_data"
    },
    {
     "data": {
      "application/vnd.jupyter.widget-view+json": {
       "model_id": "e7c9a5e9ed1c4714a58b553121ed5b44",
       "version_major": 2,
       "version_minor": 0
      },
      "text/plain": [
       "Validation: |          | 0/? [00:00<?, ?it/s]"
      ]
     },
     "metadata": {},
     "output_type": "display_data"
    },
    {
     "data": {
      "application/vnd.jupyter.widget-view+json": {
       "model_id": "bc4a898c97c1489abef337e8e339318f",
       "version_major": 2,
       "version_minor": 0
      },
      "text/plain": [
       "Validation: |          | 0/? [00:00<?, ?it/s]"
      ]
     },
     "metadata": {},
     "output_type": "display_data"
    },
    {
     "data": {
      "application/vnd.jupyter.widget-view+json": {
       "model_id": "e95fa5b3b55048249c8ba245591fbc8a",
       "version_major": 2,
       "version_minor": 0
      },
      "text/plain": [
       "Validation: |          | 0/? [00:00<?, ?it/s]"
      ]
     },
     "metadata": {},
     "output_type": "display_data"
    },
    {
     "data": {
      "application/vnd.jupyter.widget-view+json": {
       "model_id": "ebce037986a0437fa0a731a8bc325098",
       "version_major": 2,
       "version_minor": 0
      },
      "text/plain": [
       "Validation: |          | 0/? [00:00<?, ?it/s]"
      ]
     },
     "metadata": {},
     "output_type": "display_data"
    },
    {
     "data": {
      "application/vnd.jupyter.widget-view+json": {
       "model_id": "ac913160c7a14dc8828e1efca94d1a8e",
       "version_major": 2,
       "version_minor": 0
      },
      "text/plain": [
       "Validation: |          | 0/? [00:00<?, ?it/s]"
      ]
     },
     "metadata": {},
     "output_type": "display_data"
    },
    {
     "data": {
      "application/vnd.jupyter.widget-view+json": {
       "model_id": "ef105559b1be4ab8a5d082aaef4a5537",
       "version_major": 2,
       "version_minor": 0
      },
      "text/plain": [
       "Validation: |          | 0/? [00:00<?, ?it/s]"
      ]
     },
     "metadata": {},
     "output_type": "display_data"
    },
    {
     "data": {
      "application/vnd.jupyter.widget-view+json": {
       "model_id": "941704d96aa14dae9998710ee4fbf819",
       "version_major": 2,
       "version_minor": 0
      },
      "text/plain": [
       "Validation: |          | 0/? [00:00<?, ?it/s]"
      ]
     },
     "metadata": {},
     "output_type": "display_data"
    },
    {
     "data": {
      "application/vnd.jupyter.widget-view+json": {
       "model_id": "8c358e5b988a4433a9a6cb2fd50121ee",
       "version_major": 2,
       "version_minor": 0
      },
      "text/plain": [
       "Validation: |          | 0/? [00:00<?, ?it/s]"
      ]
     },
     "metadata": {},
     "output_type": "display_data"
    },
    {
     "data": {
      "application/vnd.jupyter.widget-view+json": {
       "model_id": "77b62e07b77945ddbc698edbf7cf39cd",
       "version_major": 2,
       "version_minor": 0
      },
      "text/plain": [
       "Validation: |          | 0/? [00:00<?, ?it/s]"
      ]
     },
     "metadata": {},
     "output_type": "display_data"
    },
    {
     "data": {
      "application/vnd.jupyter.widget-view+json": {
       "model_id": "a1f07ff32a9a4e9e919ca9c219425f77",
       "version_major": 2,
       "version_minor": 0
      },
      "text/plain": [
       "Validation: |          | 0/? [00:00<?, ?it/s]"
      ]
     },
     "metadata": {},
     "output_type": "display_data"
    },
    {
     "data": {
      "application/vnd.jupyter.widget-view+json": {
       "model_id": "bb2d65d143a24be6b0f678742e326d2a",
       "version_major": 2,
       "version_minor": 0
      },
      "text/plain": [
       "Validation: |          | 0/? [00:00<?, ?it/s]"
      ]
     },
     "metadata": {},
     "output_type": "display_data"
    },
    {
     "name": "stderr",
     "output_type": "stream",
     "text": [
      "`Trainer.fit` stopped: `max_epochs=20` reached.\n"
     ]
    }
   ],
   "source": [
    "max_epochs = 20\n",
    "\n",
    "model_eng = LitModel(\n",
    "    EngModel(input_features=train_dataset_eng[0][0].shape[0], num_classes=2),\n",
    "    learning_rate=1e-3,\n",
    "    max_epochs=max_epochs\n",
    ")\n",
    "\n",
    "trainer_eng = L.Trainer(\n",
    "    max_epochs=max_epochs,\n",
    "    accelerator='gpu',\n",
    "    devices=1 if torch.cuda.is_available() else None,\n",
    "    precision='16-mixed',        \n",
    "    logger=False,        \n",
    "    gradient_clip_val=1.0,\n",
    "    enable_progress_bar=True,\n",
    "    num_sanity_val_steps=0\n",
    ")\n",
    "trainer_eng.fit(model_eng, train_loader_eng, val_loader_eng)"
   ]
  },
  {
   "cell_type": "code",
   "execution_count": 39,
   "id": "ca4343e0",
   "metadata": {},
   "outputs": [],
   "source": [
    "def plot_epoch_learning_curve(train_scores, val_scores, title=\"Learning Curve (Malignant Recall)\", ylim=(0.0, 1.05)):\n",
    "    epochs = np.arange(1, len(train_scores) + 1)\n",
    "\n",
    "    train_scores = np.asarray(train_scores, dtype=float)\n",
    "    val_scores = np.asarray(val_scores, dtype=float)\n",
    "\n",
    "    plt.figure(figsize=(8, 6))\n",
    "    plt.plot(epochs, train_scores, 'o-', color='blue', label='Training recall (label=1)')\n",
    "    plt.plot(epochs, val_scores, 'o-', color='green', label='Validation recall (label=1)')\n",
    "\n",
    "    # Optional: shaded band for a simple smoothing uncertainty proxy (rolling std)\n",
    "    # Comment out if not desired\n",
    "    if len(train_scores) >= 3:\n",
    "        k = 3\n",
    "        tr_roll = np.array([train_scores[max(0,i-k+1):i+1].std() for i in range(len(train_scores))])\n",
    "        vl_roll = np.array([val_scores[max(0,i-k+1):i+1].std() for i in range(len(val_scores))])\n",
    "        plt.fill_between(epochs, train_scores - tr_roll, train_scores + tr_roll, color='blue', alpha=0.10)\n",
    "        plt.fill_between(epochs, val_scores - vl_roll, val_scores + vl_roll, color='green', alpha=0.10)\n",
    "\n",
    "    plt.title(title)\n",
    "    plt.xlabel('Epoch')\n",
    "    plt.ylabel('Recall (malignant class)')\n",
    "    if ylim is not None:\n",
    "        plt.ylim(*ylim)\n",
    "    plt.grid(True)\n",
    "    plt.legend()\n",
    "    plt.tight_layout()\n",
    "    plt.show()"
   ]
  },
  {
   "cell_type": "code",
   "execution_count": 40,
   "id": "b6ba3cab",
   "metadata": {},
   "outputs": [
    {
     "data": {
      "image/png": "[encoded data removed]",
      "text/plain": [
       "<Figure size 800x600 with 1 Axes>"
      ]
     },
     "metadata": {},
     "output_type": "display_data"
    }
   ],
   "source": [
    "plot_epoch_learning_curve(\n",
    "    model_eng.train_recall_mal_accum,\n",
    "    model_eng.val_recall_mal_accum,\n",
    "    title=\"Learning Curve - Engineered Features (Malignant Recall)\"\n",
    ")"
   ]
  },
  {
   "cell_type": "markdown",
   "id": "a1805848",
   "metadata": {},
   "source": [
    "### <span style=\"color: Orange;\">**Section V: Evaluation — Classification Reports (ENG Pool)**</span>\n",
    "\n",
    "- Switch the trained Lightning module to evaluation mode and disable grad\n",
    "- Run inference over a dataloader, aggregate predictions and targets\n",
    "- Generate a per-class precision/recall/F1 report for Benign and Malignant\n",
    "\n",
    "This section implements a utility to compute and display detailed classification metrics for the engineered-features model. The helper sets the module to eval mode with gradients off, iterates through the given dataloader on the correct device, and collects batch-wise predictions alongside ground-truth labels. After concatenation, it prints a scikit-learn classification report (precision, recall, F1-score, support) for the Benign and Malignant classes with consistent label ordering and safe handling of zero-division. The function is then applied to both the validation and test splits to provide an objective post-training assessment of class-wise performance.\n"
   ]
  },
  {
   "cell_type": "code",
   "execution_count": 41,
   "id": "261d7eac",
   "metadata": {},
   "outputs": [],
   "source": [
    "@torch.no_grad()\n",
    "def eval_classification_report(pl_module: L.LightningModule, dataloader, set_name=\"Validation\"):\n",
    "    pl_module.eval()\n",
    "    device = next(pl_module.parameters()).device\n",
    "\n",
    "    preds_all, targets_all = [], []\n",
    "    for xb, yb in dataloader:\n",
    "        xb = xb.to(device)\n",
    "        yb = yb.to(device).long()\n",
    "        logits = pl_module(xb)\n",
    "        preds = torch.argmax(logits, dim=1)\n",
    "        preds_all.append(preds.cpu())\n",
    "        targets_all.append(yb.cpu())\n",
    "\n",
    "    y_true = torch.cat(targets_all).numpy()\n",
    "    y_pred = torch.cat(preds_all).numpy()\n",
    "\n",
    "    print(f\"\\n{set_name} Classification Report:\")\n",
    "    print(classification_report(\n",
    "        y_true, y_pred,\n",
    "        labels=[0, 1],\n",
    "        target_names=[\"Benign\", \"Malignant\"],\n",
    "        digits=4,\n",
    "        zero_division=0\n",
    "    ))\n",
    "    return y_true, y_pred"
   ]
  },
  {
   "cell_type": "code",
   "execution_count": 42,
   "id": "fd97bfd7",
   "metadata": {},
   "outputs": [
    {
     "name": "stdout",
     "output_type": "stream",
     "text": [
      "\n",
      "Validation Classification Report:\n",
      "              precision    recall  f1-score   support\n",
      "\n",
      "      Benign     0.9828    1.0000    0.9913        57\n",
      "   Malignant     1.0000    0.9706    0.9851        34\n",
      "\n",
      "    accuracy                         0.9890        91\n",
      "   macro avg     0.9914    0.9853    0.9882        91\n",
      "weighted avg     0.9892    0.9890    0.9890        91\n",
      "\n",
      "\n",
      "Test Classification Report:\n",
      "              precision    recall  f1-score   support\n",
      "\n",
      "      Benign     0.9861    0.9861    0.9861        72\n",
      "   Malignant     0.9762    0.9762    0.9762        42\n",
      "\n",
      "    accuracy                         0.9825       114\n",
      "   macro avg     0.9812    0.9812    0.9812       114\n",
      "weighted avg     0.9825    0.9825    0.9825       114\n",
      "\n"
     ]
    }
   ],
   "source": [
    "y_val_true, y_val_pred = eval_classification_report(model_eng, val_loader_eng, set_name=\"Validation\")\n",
    "y_test_true, y_test_pred = eval_classification_report(model_eng, test_loader_eng, set_name=\"Test\")"
   ]
  },
  {
   "cell_type": "markdown",
   "id": "ea154cad",
   "metadata": {},
   "source": [
    "### <span style=\"color: Orange;\">**Section VI: Permutation Feature Importance (ENG Pool)**</span>\n",
    "\n",
    "- Convert dataloader batches to arrays and compute a baseline accuracy\n",
    "- Wrap the Lightning module in a scikit-learn–compatible estimator stub\n",
    "- Compute permutation importance on the validation split and visualize ranked importances\n",
    "\n",
    "This section quantifies feature contributions for the engineered-features model using permutation importance, a model-agnostic inspection method. After extracting arrays and the baseline accuracy from the validation loader, the trained Lightning module is wrapped with a minimal estimator that exposes predict, enabling seamless use of scikit-learn’s permutation_importance API. The routine shuffles each feature across repeated trials and measures the average decrease in accuracy; the resulting means and standard deviations are tabulated and plotted as a horizontal bar chart, highlighting features whose perturbations most degrade validation accuracy. The top rows of the resulting DataFrame provide a quick view of the most influential engineered features.\n"
   ]
  },
  {
   "cell_type": "code",
   "execution_count": 43,
   "id": "e78a81ec",
   "metadata": {},
   "outputs": [],
   "source": [
    "import numpy as np\n",
    "import pandas as pd\n",
    "import torch\n",
    "from sklearn.inspection import permutation_importance\n",
    "from sklearn.metrics import accuracy_score\n",
    "import matplotlib.pyplot as plt\n",
    "\n",
    "def get_loader_arrays(dataloader, pl_module: L.LightningModule):\n",
    "    pl_module.eval()\n",
    "    device = next(pl_module.parameters()).device\n",
    "    X_list, y_list, yhat_list = [], [], []\n",
    "    with torch.no_grad():\n",
    "        for xb, yb in dataloader:\n",
    "            X_list.append(xb.cpu().numpy())\n",
    "            y_list.append(yb.cpu().numpy())\n",
    "            yhat_list.append(torch.argmax(pl_module(xb.to(device)), dim=1).cpu().numpy())\n",
    "    X = np.concatenate(X_list, axis=0)\n",
    "    y = np.concatenate(y_list, axis=0)\n",
    "    yhat = np.concatenate(yhat_list, axis=0)\n",
    "    base_acc = accuracy_score(y, yhat)\n",
    "    return X, y, base_acc\n",
    "\n",
    "def permutation_importance_nn(pl_module: L.LightningModule, dataloader, feature_names=None,\n",
    "                              n_repeats=20, random_state=42, n_jobs=-1):\n",
    "    X, y, base_acc = get_loader_arrays(dataloader, pl_module)\n",
    "\n",
    "    # Estimator stub that implements fit and predict to satisfy sklearn\n",
    "    class EstimatorWrapper:\n",
    "        def __init__(self, pl_module):\n",
    "            self.pl_module = pl_module\n",
    "        def fit(self, X, y=None):\n",
    "            return self  # no-op\n",
    "        def predict(self, X_):\n",
    "            device = next(self.pl_module.parameters()).device\n",
    "            with torch.no_grad():\n",
    "                xb = torch.from_numpy(np.asarray(X_, dtype=np.float32)).to(device)\n",
    "                logits = self.pl_module(xb)\n",
    "                preds = torch.argmax(logits, dim=1).cpu().numpy()\n",
    "            return preds\n",
    "\n",
    "    est = EstimatorWrapper(pl_module)\n",
    "\n",
    "    result = permutation_importance(\n",
    "        est, X, y,\n",
    "        scoring=\"accuracy\",\n",
    "        n_repeats=n_repeats,\n",
    "        random_state=random_state,\n",
    "        n_jobs=n_jobs\n",
    "    )  # returns importances_mean, importances_std, importances\n",
    "\n",
    "    if feature_names is None:\n",
    "        feature_names = [f\"f{i}\" for i in range(X.shape[1])]\n",
    "\n",
    "    imp_df = pd.DataFrame({\n",
    "        \"feature\": feature_names,\n",
    "        \"importance_mean\": result.importances_mean,\n",
    "        \"importance_std\": result.importances_std\n",
    "    }).sort_values(\"importance_mean\", ascending=False).reset_index(drop=True)\n",
    "\n",
    "    # Plot\n",
    "    order = np.argsort(result.importances_mean)\n",
    "    plt.figure(figsize=(8, 6))\n",
    "    plt.barh(np.array(feature_names)[order], result.importances_mean[order],\n",
    "             xerr=result.importances_std[order], color=\"#4e79a7\", alpha=0.9)\n",
    "    plt.axvline(0.0, color=\"k\", linestyle=\"--\", linewidth=1)\n",
    "    plt.title(\"Permutation Importances (Validation) - Accuracy\")\n",
    "    plt.xlabel(\"Decrease in accuracy score\")\n",
    "    plt.tight_layout()\n",
    "    plt.show()\n",
    "\n",
    "    print(f\"Baseline validation accuracy: {base_acc:.4f}\")\n",
    "    return imp_df"
   ]
  },
  {
   "cell_type": "code",
   "execution_count": 44,
   "id": "3be3a11c",
   "metadata": {},
   "outputs": [
    {
     "data": {
      "image/png": "[encoded data removed]",
      "text/plain": [
       "<Figure size 800x600 with 1 Axes>"
      ]
     },
     "metadata": {},
     "output_type": "display_data"
    },
    {
     "name": "stdout",
     "output_type": "stream",
     "text": [
      "Baseline validation accuracy: 0.9890\n"
     ]
    },
    {
     "data": {
      "text/html": [
       "<div>\n",
       "<style scoped>\n",
       "    .dataframe tbody tr th:only-of-type {\n",
       "        vertical-align: middle;\n",
       "    }\n",
       "\n",
       "    .dataframe tbody tr th {\n",
       "        vertical-align: top;\n",
       "    }\n",
       "\n",
       "    .dataframe thead th {\n",
       "        text-align: right;\n",
       "    }\n",
       "</style>\n",
       "<table border=\"1\" class=\"dataframe\">\n",
       "  <thead>\n",
       "    <tr style=\"text-align: right;\">\n",
       "      <th></th>\n",
       "      <th>feature</th>\n",
       "      <th>importance_mean</th>\n",
       "      <th>importance_std</th>\n",
       "    </tr>\n",
       "  </thead>\n",
       "  <tbody>\n",
       "    <tr>\n",
       "      <th>0</th>\n",
       "      <td>concavity_mean</td>\n",
       "      <td>0.060806</td>\n",
       "      <td>0.025494</td>\n",
       "    </tr>\n",
       "    <tr>\n",
       "      <th>1</th>\n",
       "      <td>smooth_worst_radius</td>\n",
       "      <td>0.052381</td>\n",
       "      <td>0.022820</td>\n",
       "    </tr>\n",
       "    <tr>\n",
       "      <th>2</th>\n",
       "      <td>area_worst</td>\n",
       "      <td>0.051648</td>\n",
       "      <td>0.020685</td>\n",
       "    </tr>\n",
       "    <tr>\n",
       "      <th>3</th>\n",
       "      <td>texture_worst</td>\n",
       "      <td>0.051282</td>\n",
       "      <td>0.016134</td>\n",
       "    </tr>\n",
       "    <tr>\n",
       "      <th>4</th>\n",
       "      <td>area_se</td>\n",
       "      <td>0.039927</td>\n",
       "      <td>0.014039</td>\n",
       "    </tr>\n",
       "    <tr>\n",
       "      <th>5</th>\n",
       "      <td>symmetry_worst</td>\n",
       "      <td>0.030769</td>\n",
       "      <td>0.014579</td>\n",
       "    </tr>\n",
       "    <tr>\n",
       "      <th>6</th>\n",
       "      <td>concave points_worst</td>\n",
       "      <td>0.030037</td>\n",
       "      <td>0.013588</td>\n",
       "    </tr>\n",
       "    <tr>\n",
       "      <th>7</th>\n",
       "      <td>fd_worst_perimeter</td>\n",
       "      <td>0.029670</td>\n",
       "      <td>0.013354</td>\n",
       "    </tr>\n",
       "    <tr>\n",
       "      <th>8</th>\n",
       "      <td>compactness_worst</td>\n",
       "      <td>0.027106</td>\n",
       "      <td>0.017197</td>\n",
       "    </tr>\n",
       "    <tr>\n",
       "      <th>9</th>\n",
       "      <td>perimeter_worst</td>\n",
       "      <td>0.020513</td>\n",
       "      <td>0.010125</td>\n",
       "    </tr>\n",
       "  </tbody>\n",
       "</table>\n",
       "</div>"
      ],
      "text/plain": [
       "                feature  importance_mean  importance_std\n",
       "0        concavity_mean         0.060806        0.025494\n",
       "1   smooth_worst_radius         0.052381        0.022820\n",
       "2            area_worst         0.051648        0.020685\n",
       "3         texture_worst         0.051282        0.016134\n",
       "4               area_se         0.039927        0.014039\n",
       "5        symmetry_worst         0.030769        0.014579\n",
       "6  concave points_worst         0.030037        0.013588\n",
       "7    fd_worst_perimeter         0.029670        0.013354\n",
       "8     compactness_worst         0.027106        0.017197\n",
       "9       perimeter_worst         0.020513        0.010125"
      ]
     },
     "execution_count": 44,
     "metadata": {},
     "output_type": "execute_result"
    }
   ],
   "source": [
    "df_val_eng = pd.read_csv(X_val_eng)\n",
    "real_feature_names_eng = df_val_eng.columns.tolist()\n",
    "\n",
    "imp_val_eng = permutation_importance_nn(\n",
    "    model_eng, val_loader_eng,\n",
    "    feature_names=real_feature_names_eng,\n",
    "    n_repeats=30, random_state=42, n_jobs=-1\n",
    ")\n",
    "\n",
    "imp_val_eng.head(10)"
   ]
  },
  {
   "cell_type": "markdown",
   "id": "e0dd117e",
   "metadata": {},
   "source": [
    "### <span style=\"color: Orange;\">**Section VII: Raw Features Training and Monitoring (RAW Pool)**</span>\n",
    "\n",
    "- Initialize a GPU-accelerated Lightning trainer with mixed precision (16-bit autocast)\n",
    "- Train the raw-features MLP under the same schedule and hyperparameters as the engineered pool\n",
    "- Reuse the validation loop to monitor epoch-wise malignant-class recall\n",
    "\n",
    "This section mirrors the engineered-features pipeline for the raw-features model. A PyTorch Lightning Trainer is configured with `precision='16-mixed'`, which applies automatic mixed precision to accelerate training while keeping model weights in FP32 for numerical stability. The raw-feature MLP is wrapped in the Lightning module and trained for a fixed number of epochs with identical optimizer and scheduler settings, ensuring a controlled comparison between feature pools. Validation proceeds identically, logging losses and accumulating malignant-class recall per epoch for downstream visualization and sensitivity analysis.\n"
   ]
  },
  {
   "cell_type": "code",
   "execution_count": 45,
   "id": "a303562a",
   "metadata": {},
   "outputs": [
    {
     "name": "stderr",
     "output_type": "stream",
     "text": [
      "Using 16bit Automatic Mixed Precision (AMP)\n",
      "💡 Tip: For seamless cloud uploads and versioning, try installing [litmodels](https://pypi.org/project/litmodels/) to enable LitModelCheckpoint, which syncs automatically with the Lightning model registry.\n",
      "GPU available: True (cuda), used: True\n",
      "TPU available: False, using: 0 TPU cores\n",
      "HPU available: False, using: 0 HPUs\n",
      "d:\\Coding\\bcd_mal\\venv\\Lib\\site-packages\\lightning\\pytorch\\callbacks\\model_checkpoint.py:701: Checkpoint directory d:\\Coding\\bcd_mal\\notebooks\\checkpoints exists and is not empty.\n",
      "LOCAL_RANK: 0 - CUDA_VISIBLE_DEVICES: [0]\n",
      "d:\\Coding\\bcd_mal\\venv\\Lib\\site-packages\\lightning\\pytorch\\utilities\\model_summary\\model_summary.py:231: Precision 16-mixed is not supported by the model summary.  Estimated model size in MB will not be accurate. Using 32 bits instead.\n",
      "\n",
      "  | Name  | Type     | Params | Mode \n",
      "-------------------------------------------\n",
      "0 | model | RawModel | 139 K  | train\n",
      "-------------------------------------------\n",
      "139 K     Trainable params\n",
      "0         Non-trainable params\n",
      "139 K     Total params\n",
      "0.558     Total estimated model params size (MB)\n",
      "10        Modules in train mode\n",
      "0         Modules in eval mode\n",
      "d:\\Coding\\bcd_mal\\venv\\Lib\\site-packages\\lightning\\pytorch\\trainer\\connectors\\data_connector.py:433: The 'train_dataloader' does not have many workers which may be a bottleneck. Consider increasing the value of the `num_workers` argument` to `num_workers=15` in the `DataLoader` to improve performance.\n",
      "d:\\Coding\\bcd_mal\\venv\\Lib\\site-packages\\lightning\\pytorch\\trainer\\connectors\\data_connector.py:433: The 'val_dataloader' does not have many workers which may be a bottleneck. Consider increasing the value of the `num_workers` argument` to `num_workers=15` in the `DataLoader` to improve performance.\n"
     ]
    },
    {
     "data": {
      "application/vnd.jupyter.widget-view+json": {
       "model_id": "b18a321fff444d56872d6dcba3674225",
       "version_major": 2,
       "version_minor": 0
      },
      "text/plain": [
       "Training: |          | 0/? [00:00<?, ?it/s]"
      ]
     },
     "metadata": {},
     "output_type": "display_data"
    },
    {
     "data": {
      "application/vnd.jupyter.widget-view+json": {
       "model_id": "6bef84e1238e42f5a6db1bd9500a2979",
       "version_major": 2,
       "version_minor": 0
      },
      "text/plain": [
       "Validation: |          | 0/? [00:00<?, ?it/s]"
      ]
     },
     "metadata": {},
     "output_type": "display_data"
    },
    {
     "data": {
      "application/vnd.jupyter.widget-view+json": {
       "model_id": "11e32ce3666b4da98607a8f18d7a6f53",
       "version_major": 2,
       "version_minor": 0
      },
      "text/plain": [
       "Validation: |          | 0/? [00:00<?, ?it/s]"
      ]
     },
     "metadata": {},
     "output_type": "display_data"
    },
    {
     "data": {
      "application/vnd.jupyter.widget-view+json": {
       "model_id": "c8436181a7044d12bd950c0fd03b79a2",
       "version_major": 2,
       "version_minor": 0
      },
      "text/plain": [
       "Validation: |          | 0/? [00:00<?, ?it/s]"
      ]
     },
     "metadata": {},
     "output_type": "display_data"
    },
    {
     "data": {
      "application/vnd.jupyter.widget-view+json": {
       "model_id": "436d3b8284804462b0172109bb87d2ff",
       "version_major": 2,
       "version_minor": 0
      },
      "text/plain": [
       "Validation: |          | 0/? [00:00<?, ?it/s]"
      ]
     },
     "metadata": {},
     "output_type": "display_data"
    },
    {
     "data": {
      "application/vnd.jupyter.widget-view+json": {
       "model_id": "eddf354a9afb4455a8738dcb49b65853",
       "version_major": 2,
       "version_minor": 0
      },
      "text/plain": [
       "Validation: |          | 0/? [00:00<?, ?it/s]"
      ]
     },
     "metadata": {},
     "output_type": "display_data"
    },
    {
     "data": {
      "application/vnd.jupyter.widget-view+json": {
       "model_id": "c7af3eedbb2b44bca76b8006a9e761da",
       "version_major": 2,
       "version_minor": 0
      },
      "text/plain": [
       "Validation: |          | 0/? [00:00<?, ?it/s]"
      ]
     },
     "metadata": {},
     "output_type": "display_data"
    },
    {
     "data": {
      "application/vnd.jupyter.widget-view+json": {
       "model_id": "c029e2443af34e30bea835e857df0b73",
       "version_major": 2,
       "version_minor": 0
      },
      "text/plain": [
       "Validation: |          | 0/? [00:00<?, ?it/s]"
      ]
     },
     "metadata": {},
     "output_type": "display_data"
    },
    {
     "data": {
      "application/vnd.jupyter.widget-view+json": {
       "model_id": "53c8eb9f2a764ceba138c732b7d7d21a",
       "version_major": 2,
       "version_minor": 0
      },
      "text/plain": [
       "Validation: |          | 0/? [00:00<?, ?it/s]"
      ]
     },
     "metadata": {},
     "output_type": "display_data"
    },
    {
     "data": {
      "application/vnd.jupyter.widget-view+json": {
       "model_id": "de03e694aa304a3eb71dd0c06e26f578",
       "version_major": 2,
       "version_minor": 0
      },
      "text/plain": [
       "Validation: |          | 0/? [00:00<?, ?it/s]"
      ]
     },
     "metadata": {},
     "output_type": "display_data"
    },
    {
     "data": {
      "application/vnd.jupyter.widget-view+json": {
       "model_id": "060d1ceef79a416aae47bd1f31614008",
       "version_major": 2,
       "version_minor": 0
      },
      "text/plain": [
       "Validation: |          | 0/? [00:00<?, ?it/s]"
      ]
     },
     "metadata": {},
     "output_type": "display_data"
    },
    {
     "data": {
      "application/vnd.jupyter.widget-view+json": {
       "model_id": "243bec81160d4e28b897ec5b7536c02d",
       "version_major": 2,
       "version_minor": 0
      },
      "text/plain": [
       "Validation: |          | 0/? [00:00<?, ?it/s]"
      ]
     },
     "metadata": {},
     "output_type": "display_data"
    },
    {
     "data": {
      "application/vnd.jupyter.widget-view+json": {
       "model_id": "42fbb9bd99e14890b900494e70c7c93f",
       "version_major": 2,
       "version_minor": 0
      },
      "text/plain": [
       "Validation: |          | 0/? [00:00<?, ?it/s]"
      ]
     },
     "metadata": {},
     "output_type": "display_data"
    },
    {
     "data": {
      "application/vnd.jupyter.widget-view+json": {
       "model_id": "6af6379e555c491986aef7338f4736d0",
       "version_major": 2,
       "version_minor": 0
      },
      "text/plain": [
       "Validation: |          | 0/? [00:00<?, ?it/s]"
      ]
     },
     "metadata": {},
     "output_type": "display_data"
    },
    {
     "data": {
      "application/vnd.jupyter.widget-view+json": {
       "model_id": "c2f3d3dd0bc94db6bc0fc2a1a1b7de0b",
       "version_major": 2,
       "version_minor": 0
      },
      "text/plain": [
       "Validation: |          | 0/? [00:00<?, ?it/s]"
      ]
     },
     "metadata": {},
     "output_type": "display_data"
    },
    {
     "data": {
      "application/vnd.jupyter.widget-view+json": {
       "model_id": "fbdf86ece72648879adeb7d88fe5352c",
       "version_major": 2,
       "version_minor": 0
      },
      "text/plain": [
       "Validation: |          | 0/? [00:00<?, ?it/s]"
      ]
     },
     "metadata": {},
     "output_type": "display_data"
    },
    {
     "data": {
      "application/vnd.jupyter.widget-view+json": {
       "model_id": "6831deadf8ac4666949adfcc8562977d",
       "version_major": 2,
       "version_minor": 0
      },
      "text/plain": [
       "Validation: |          | 0/? [00:00<?, ?it/s]"
      ]
     },
     "metadata": {},
     "output_type": "display_data"
    },
    {
     "data": {
      "application/vnd.jupyter.widget-view+json": {
       "model_id": "e6329fdfda814f22b707e891e0aa0bea",
       "version_major": 2,
       "version_minor": 0
      },
      "text/plain": [
       "Validation: |          | 0/? [00:00<?, ?it/s]"
      ]
     },
     "metadata": {},
     "output_type": "display_data"
    },
    {
     "data": {
      "application/vnd.jupyter.widget-view+json": {
       "model_id": "eab759ee5daa4609bd1fcd31dfc1fea8",
       "version_major": 2,
       "version_minor": 0
      },
      "text/plain": [
       "Validation: |          | 0/? [00:00<?, ?it/s]"
      ]
     },
     "metadata": {},
     "output_type": "display_data"
    },
    {
     "data": {
      "application/vnd.jupyter.widget-view+json": {
       "model_id": "ee7a3e2e16a34d8297801a1db9711fb2",
       "version_major": 2,
       "version_minor": 0
      },
      "text/plain": [
       "Validation: |          | 0/? [00:00<?, ?it/s]"
      ]
     },
     "metadata": {},
     "output_type": "display_data"
    },
    {
     "data": {
      "application/vnd.jupyter.widget-view+json": {
       "model_id": "8773241e2b2146ebacaa7a433ce91926",
       "version_major": 2,
       "version_minor": 0
      },
      "text/plain": [
       "Validation: |          | 0/? [00:00<?, ?it/s]"
      ]
     },
     "metadata": {},
     "output_type": "display_data"
    },
    {
     "name": "stderr",
     "output_type": "stream",
     "text": [
      "`Trainer.fit` stopped: `max_epochs=20` reached.\n"
     ]
    }
   ],
   "source": [
    "max_epochs = 20\n",
    "\n",
    "model_raw = LitModel(\n",
    "    RawModel(input_features=train_dataset_eng[0][0].shape[0], num_classes=2),\n",
    "    learning_rate=1e-3,\n",
    "    max_epochs=max_epochs\n",
    ")\n",
    "\n",
    "trainer_eng = L.Trainer(\n",
    "    max_epochs=max_epochs,\n",
    "    accelerator='gpu',\n",
    "    devices=1 if torch.cuda.is_available() else None,\n",
    "    precision='16-mixed',        \n",
    "    logger=False,        \n",
    "    gradient_clip_val=1.0,\n",
    "    enable_progress_bar=True,\n",
    "    num_sanity_val_steps=0\n",
    ")\n",
    "trainer_eng.fit(model_raw, train_loader_raw, val_loader_raw)"
   ]
  },
  {
   "cell_type": "code",
   "execution_count": 46,
   "id": "62d14f7f",
   "metadata": {},
   "outputs": [
    {
     "data": {
      "image/png": "[encoded data removed]",
      "text/plain": [
       "<Figure size 800x600 with 1 Axes>"
      ]
     },
     "metadata": {},
     "output_type": "display_data"
    }
   ],
   "source": [
    "plot_epoch_learning_curve(\n",
    "    model_raw.train_recall_mal_accum,\n",
    "    model_raw.val_recall_mal_accum,\n",
    "    title=\"Learning Curve - Raw Features (Malignant Recall)\"\n",
    ")"
   ]
  },
  {
   "cell_type": "markdown",
   "id": "2664289e",
   "metadata": {},
   "source": [
    "### <span style=\"color: Orange;\">**Section VIII: Evaluation — Classification Reports (RAW Pool)**</span>\n",
    "\n",
    "- Set the trained raw-features module to eval mode and disable gradients\n",
    "- Infer over validation and test loaders, aggregating predictions and targets\n",
    "- Print the scikit-learn classification report for Benign and Malignant classes\n",
    "\n",
    "This section evaluates the raw-features model using the same reporting utility applied to the engineered pool. The procedure switches the Lightning module to evaluation mode, iterates over the specified dataloaders on the correct device, and collects batch-wise predictions and ground truth. The concatenated outputs are passed to scikit-learn’s classification_report to summarize precision, recall, F1-score, and support per class, along with aggregate metrics such as macro/weighted averages and accuracy, enabling an apples-to-apples comparison between feature pools.\n"
   ]
  },
  {
   "cell_type": "code",
   "execution_count": 47,
   "id": "35bd404a",
   "metadata": {},
   "outputs": [
    {
     "name": "stdout",
     "output_type": "stream",
     "text": [
      "\n",
      "Validation Classification Report:\n",
      "              precision    recall  f1-score   support\n",
      "\n",
      "      Benign     0.9825    0.9825    0.9825        57\n",
      "   Malignant     0.9706    0.9706    0.9706        34\n",
      "\n",
      "    accuracy                         0.9780        91\n",
      "   macro avg     0.9765    0.9765    0.9765        91\n",
      "weighted avg     0.9780    0.9780    0.9780        91\n",
      "\n",
      "\n",
      "Test Classification Report:\n",
      "              precision    recall  f1-score   support\n",
      "\n",
      "      Benign     0.9863    1.0000    0.9931        72\n",
      "   Malignant     1.0000    0.9762    0.9880        42\n",
      "\n",
      "    accuracy                         0.9912       114\n",
      "   macro avg     0.9932    0.9881    0.9905       114\n",
      "weighted avg     0.9913    0.9912    0.9912       114\n",
      "\n"
     ]
    }
   ],
   "source": [
    "y_val_true, y_val_pred = eval_classification_report(model_raw, val_loader_raw, set_name=\"Validation\")\n",
    "y_test_true, y_test_pred = eval_classification_report(model_raw, test_loader_raw, set_name=\"Test\")"
   ]
  },
  {
   "cell_type": "markdown",
   "id": "942df545",
   "metadata": {},
   "source": [
    "### <span style=\"color: Orange;\">**Section IX: Permutation Feature Importance (RAW Pool)**</span>\n",
    "\n",
    "- Extract validation arrays and baseline accuracy from the raw-features loader\n",
    "- Use a lightweight estimator wrapper to enable scikit-learn permutation importance\n",
    "- Rank and visualize raw-feature importances with mean impact and variability\n",
    "\n",
    "This section assesses the contribution of each raw feature using a permutation-based, model-agnostic approach on the validation split. After converting the dataloader to arrays and computing the baseline accuracy, the trained raw-feature Lightning module is exposed via a minimal predict-only wrapper to interface with scikit-learn’s permutation importance routine. The algorithm repeatedly shuffles each feature, measures the average decrease in accuracy, and summarizes results in a DataFrame and bar plot, allowing quick identification of raw inputs that most influence classification performance."
   ]
  },
  {
   "cell_type": "code",
   "execution_count": 48,
   "id": "5571146b",
   "metadata": {},
   "outputs": [
    {
     "data": {
      "image/png": "[encoded data removed]",
      "text/plain": [
       "<Figure size 800x600 with 1 Axes>"
      ]
     },
     "metadata": {},
     "output_type": "display_data"
    },
    {
     "name": "stdout",
     "output_type": "stream",
     "text": [
      "Baseline validation accuracy: 0.9780\n"
     ]
    },
    {
     "data": {
      "text/html": [
       "<div>\n",
       "<style scoped>\n",
       "    .dataframe tbody tr th:only-of-type {\n",
       "        vertical-align: middle;\n",
       "    }\n",
       "\n",
       "    .dataframe tbody tr th {\n",
       "        vertical-align: top;\n",
       "    }\n",
       "\n",
       "    .dataframe thead th {\n",
       "        text-align: right;\n",
       "    }\n",
       "</style>\n",
       "<table border=\"1\" class=\"dataframe\">\n",
       "  <thead>\n",
       "    <tr style=\"text-align: right;\">\n",
       "      <th></th>\n",
       "      <th>feature</th>\n",
       "      <th>importance_mean</th>\n",
       "      <th>importance_std</th>\n",
       "    </tr>\n",
       "  </thead>\n",
       "  <tbody>\n",
       "    <tr>\n",
       "      <th>0</th>\n",
       "      <td>area_se</td>\n",
       "      <td>0.046886</td>\n",
       "      <td>0.017704</td>\n",
       "    </tr>\n",
       "    <tr>\n",
       "      <th>1</th>\n",
       "      <td>concavity_worst</td>\n",
       "      <td>0.038828</td>\n",
       "      <td>0.020799</td>\n",
       "    </tr>\n",
       "    <tr>\n",
       "      <th>2</th>\n",
       "      <td>radius_worst</td>\n",
       "      <td>0.036996</td>\n",
       "      <td>0.021135</td>\n",
       "    </tr>\n",
       "    <tr>\n",
       "      <th>3</th>\n",
       "      <td>radius_se</td>\n",
       "      <td>0.030769</td>\n",
       "      <td>0.014015</td>\n",
       "    </tr>\n",
       "    <tr>\n",
       "      <th>4</th>\n",
       "      <td>texture_worst</td>\n",
       "      <td>0.030403</td>\n",
       "      <td>0.016221</td>\n",
       "    </tr>\n",
       "    <tr>\n",
       "      <th>5</th>\n",
       "      <td>symmetry_worst</td>\n",
       "      <td>0.030037</td>\n",
       "      <td>0.012982</td>\n",
       "    </tr>\n",
       "    <tr>\n",
       "      <th>6</th>\n",
       "      <td>perimeter_worst</td>\n",
       "      <td>0.015018</td>\n",
       "      <td>0.013750</td>\n",
       "    </tr>\n",
       "    <tr>\n",
       "      <th>7</th>\n",
       "      <td>compactness_worst</td>\n",
       "      <td>0.014652</td>\n",
       "      <td>0.013706</td>\n",
       "    </tr>\n",
       "    <tr>\n",
       "      <th>8</th>\n",
       "      <td>concave points_mean</td>\n",
       "      <td>0.009158</td>\n",
       "      <td>0.015302</td>\n",
       "    </tr>\n",
       "    <tr>\n",
       "      <th>9</th>\n",
       "      <td>area_worst</td>\n",
       "      <td>0.008791</td>\n",
       "      <td>0.012815</td>\n",
       "    </tr>\n",
       "  </tbody>\n",
       "</table>\n",
       "</div>"
      ],
      "text/plain": [
       "               feature  importance_mean  importance_std\n",
       "0              area_se         0.046886        0.017704\n",
       "1      concavity_worst         0.038828        0.020799\n",
       "2         radius_worst         0.036996        0.021135\n",
       "3            radius_se         0.030769        0.014015\n",
       "4        texture_worst         0.030403        0.016221\n",
       "5       symmetry_worst         0.030037        0.012982\n",
       "6      perimeter_worst         0.015018        0.013750\n",
       "7    compactness_worst         0.014652        0.013706\n",
       "8  concave points_mean         0.009158        0.015302\n",
       "9           area_worst         0.008791        0.012815"
      ]
     },
     "execution_count": 48,
     "metadata": {},
     "output_type": "execute_result"
    }
   ],
   "source": [
    "df_val_raw = pd.read_csv(X_val_raw)\n",
    "real_feature_names_raw = df_val_raw.columns.tolist()\n",
    "\n",
    "imp_val_raw = permutation_importance_nn(\n",
    "    model_raw, val_loader_raw,\n",
    "    feature_names=real_feature_names_raw,\n",
    "    n_repeats=30, random_state=42, n_jobs=-1\n",
    ")\n",
    "\n",
    "imp_val_raw.head(10)"
   ]
  },
  {
   "cell_type": "markdown",
   "id": "1a1b4fa0",
   "metadata": {},
   "source": [
    "### <span style=\"color: Orange;\">**Section X: Feature Selection and Combined-Feature Training**</span>\n",
    "\n",
    "- Select features by thresholding permutation-importance means from both pools\n",
    "- Merge selected engineered and raw features into a unified, stable list\n",
    "- Train a combined-feature MLP and evaluate learning curves and reports\n",
    "\n",
    "This section operationalizes feature selection by applying a threshold to permutation-importance scores from both engineered and raw pools, yielding two subsets that are then unioned into a single, stable feature list for downstream modeling. Using this combined subset, new dataset objects and dataloaders are instantiated to ensure the training pipeline consumes only the most influential inputs, which can improve efficiency and generalization. A compact MLP classifier is defined for the merged feature space and trained under the same schedule and precision settings, after which malignant-class recall curves are visualized and detailed validation/test classification reports are produced to assess whether the fused representation improves sensitivity and overall performance."
   ]
  },
  {
   "cell_type": "code",
   "execution_count": 49,
   "id": "aad27d5c",
   "metadata": {},
   "outputs": [
    {
     "name": "stdout",
     "output_type": "stream",
     "text": [
      "Selected engineered features (7): ['concavity_mean', 'smooth_worst_radius', 'area_worst', 'texture_worst', 'area_se', 'symmetry_worst', 'concave points_worst']\n",
      "Selected raw features (6): ['area_se', 'concavity_worst', 'radius_worst', 'radius_se', 'texture_worst', 'symmetry_worst']\n",
      "Combined unique selected features (10): ['area_se', 'area_worst', 'concave points_worst', 'concavity_mean', 'concavity_worst', 'radius_se', 'radius_worst', 'smooth_worst_radius', 'symmetry_worst', 'texture_worst']\n"
     ]
    }
   ],
   "source": [
    "def select_features_by_threshold(imp_df: pd.DataFrame, threshold: float):\n",
    "    # expects columns: [\"feature\", \"importance_mean\", \"importance_std\"]\n",
    "    sel = imp_df.loc[imp_df[\"importance_mean\"] > threshold, \"feature\"].tolist()\n",
    "    return sel\n",
    "\n",
    "# Pick thresholds (tune based on plots/distribution of importances)\n",
    "thr_eng = 0.03\n",
    "thr_raw = 0.03\n",
    "\n",
    "selected_features_eng = select_features_by_threshold(imp_val_eng, thr_eng)\n",
    "selected_features_raw = select_features_by_threshold(imp_val_raw, thr_raw)\n",
    "\n",
    "# Combine uniques while preserving a stable order (sorted or by first appearance)\n",
    "combined_selected = sorted(set(selected_features_eng) | set(selected_features_raw))\n",
    "\n",
    "print(f\"Selected engineered features ({len(selected_features_eng)}): {selected_features_eng}\")\n",
    "print(f\"Selected raw features ({len(selected_features_raw)}): {selected_features_raw}\")\n",
    "print(f\"Combined unique selected features ({len(combined_selected)}): {combined_selected}\")"
   ]
  },
  {
   "cell_type": "code",
   "execution_count": 50,
   "id": "b25662db",
   "metadata": {},
   "outputs": [],
   "source": [
    "train_dataset_combined = CancerDataset(X_train, y_train, use_filter=True, feature_filter=combined_selected)\n",
    "val_dataset_combined   = CancerDataset(X_val, y_val, use_filter=True, feature_filter=combined_selected)\n",
    "test_dataset_combined  = CancerDataset(X_test, y_test, use_filter=True, feature_filter=combined_selected)\n",
    "\n",
    "train_loader_combined = DataLoader(\n",
    "    train_dataset_combined,\n",
    "    batch_size=batch_size,\n",
    "    num_workers=num_workers,\n",
    "    shuffle=True,\n",
    "    pin_memory=pin_memory,\n",
    "    persistent_workers=persistent_workers\n",
    ")\n",
    "val_loader_combined = DataLoader(\n",
    "    val_dataset_combined,\n",
    "    batch_size=batch_size,\n",
    "    num_workers=num_workers,\n",
    "    shuffle=False,\n",
    "    pin_memory=pin_memory,\n",
    "    persistent_workers=persistent_workers\n",
    ")\n",
    "test_loader_combined = DataLoader(\n",
    "    test_dataset_combined,\n",
    "    batch_size=batch_size,\n",
    "    num_workers=num_workers,\n",
    "    shuffle=False,\n",
    "    pin_memory=pin_memory,\n",
    "    persistent_workers=persistent_workers\n",
    ")"
   ]
  },
  {
   "cell_type": "code",
   "execution_count": 51,
   "id": "9de53f01",
   "metadata": {},
   "outputs": [],
   "source": [
    "# Model Definitions\n",
    "class CombinedModel(nn.Module):\n",
    "    def __init__(self, input_features, num_classes):\n",
    "        super(CombinedModel, self).__init__()\n",
    "        self.mlp = nn.Sequential(\n",
    "            nn.Linear(input_features, 256),\n",
    "            nn.BatchNorm1d(256),\n",
    "            nn.ReLU(inplace=True),\n",
    "            nn.Linear(256, 512),\n",
    "            nn.BatchNorm1d(512),\n",
    "            nn.ReLU(inplace=True),\n",
    "            nn.Dropout(0.25),\n",
    "            nn.Linear(512, num_classes),\n",
    "        )\n",
    "    \n",
    "    def forward(self, x):\n",
    "        x = self.mlp(x)\n",
    "        return x"
   ]
  },
  {
   "cell_type": "code",
   "execution_count": 52,
   "id": "fce1767c",
   "metadata": {},
   "outputs": [
    {
     "name": "stderr",
     "output_type": "stream",
     "text": [
      "Using 16bit Automatic Mixed Precision (AMP)\n",
      "💡 Tip: For seamless cloud uploads and versioning, try installing [litmodels](https://pypi.org/project/litmodels/) to enable LitModelCheckpoint, which syncs automatically with the Lightning model registry.\n",
      "GPU available: True (cuda), used: True\n",
      "TPU available: False, using: 0 TPU cores\n",
      "HPU available: False, using: 0 HPUs\n",
      "d:\\Coding\\bcd_mal\\venv\\Lib\\site-packages\\lightning\\pytorch\\callbacks\\model_checkpoint.py:701: Checkpoint directory d:\\Coding\\bcd_mal\\notebooks\\checkpoints exists and is not empty.\n",
      "LOCAL_RANK: 0 - CUDA_VISIBLE_DEVICES: [0]\n",
      "d:\\Coding\\bcd_mal\\venv\\Lib\\site-packages\\lightning\\pytorch\\utilities\\model_summary\\model_summary.py:231: Precision 16-mixed is not supported by the model summary.  Estimated model size in MB will not be accurate. Using 32 bits instead.\n",
      "\n",
      "  | Name  | Type          | Params | Mode \n",
      "------------------------------------------------\n",
      "0 | model | CombinedModel | 136 K  | train\n",
      "------------------------------------------------\n",
      "136 K     Trainable params\n",
      "0         Non-trainable params\n",
      "136 K     Total params\n",
      "0.548     Total estimated model params size (MB)\n",
      "10        Modules in train mode\n",
      "0         Modules in eval mode\n",
      "d:\\Coding\\bcd_mal\\venv\\Lib\\site-packages\\lightning\\pytorch\\trainer\\connectors\\data_connector.py:433: The 'train_dataloader' does not have many workers which may be a bottleneck. Consider increasing the value of the `num_workers` argument` to `num_workers=15` in the `DataLoader` to improve performance.\n",
      "d:\\Coding\\bcd_mal\\venv\\Lib\\site-packages\\lightning\\pytorch\\trainer\\connectors\\data_connector.py:433: The 'val_dataloader' does not have many workers which may be a bottleneck. Consider increasing the value of the `num_workers` argument` to `num_workers=15` in the `DataLoader` to improve performance.\n"
     ]
    },
    {
     "data": {
      "application/vnd.jupyter.widget-view+json": {
       "model_id": "0a692c378a0d4003b79b6f6baa13e97e",
       "version_major": 2,
       "version_minor": 0
      },
      "text/plain": [
       "Training: |          | 0/? [00:00<?, ?it/s]"
      ]
     },
     "metadata": {},
     "output_type": "display_data"
    },
    {
     "data": {
      "application/vnd.jupyter.widget-view+json": {
       "model_id": "7b29003083a54e6f9bec5e616c62affc",
       "version_major": 2,
       "version_minor": 0
      },
      "text/plain": [
       "Validation: |          | 0/? [00:00<?, ?it/s]"
      ]
     },
     "metadata": {},
     "output_type": "display_data"
    },
    {
     "data": {
      "application/vnd.jupyter.widget-view+json": {
       "model_id": "733e781b0a1846bdac31d2ed06238e2f",
       "version_major": 2,
       "version_minor": 0
      },
      "text/plain": [
       "Validation: |          | 0/? [00:00<?, ?it/s]"
      ]
     },
     "metadata": {},
     "output_type": "display_data"
    },
    {
     "data": {
      "application/vnd.jupyter.widget-view+json": {
       "model_id": "db06d1df70c44581a941d468b15f454f",
       "version_major": 2,
       "version_minor": 0
      },
      "text/plain": [
       "Validation: |          | 0/? [00:00<?, ?it/s]"
      ]
     },
     "metadata": {},
     "output_type": "display_data"
    },
    {
     "data": {
      "application/vnd.jupyter.widget-view+json": {
       "model_id": "304a836d057b49ea9c4f84c9cef73cd6",
       "version_major": 2,
       "version_minor": 0
      },
      "text/plain": [
       "Validation: |          | 0/? [00:00<?, ?it/s]"
      ]
     },
     "metadata": {},
     "output_type": "display_data"
    },
    {
     "data": {
      "application/vnd.jupyter.widget-view+json": {
       "model_id": "be771a59c9694ff499207428ed72ed99",
       "version_major": 2,
       "version_minor": 0
      },
      "text/plain": [
       "Validation: |          | 0/? [00:00<?, ?it/s]"
      ]
     },
     "metadata": {},
     "output_type": "display_data"
    },
    {
     "data": {
      "application/vnd.jupyter.widget-view+json": {
       "model_id": "f6d10dcced434b32be9db12a5bb05148",
       "version_major": 2,
       "version_minor": 0
      },
      "text/plain": [
       "Validation: |          | 0/? [00:00<?, ?it/s]"
      ]
     },
     "metadata": {},
     "output_type": "display_data"
    },
    {
     "data": {
      "application/vnd.jupyter.widget-view+json": {
       "model_id": "233459309c4241d9a61021607fc9cfe6",
       "version_major": 2,
       "version_minor": 0
      },
      "text/plain": [
       "Validation: |          | 0/? [00:00<?, ?it/s]"
      ]
     },
     "metadata": {},
     "output_type": "display_data"
    },
    {
     "data": {
      "application/vnd.jupyter.widget-view+json": {
       "model_id": "2e0e484b535e4e1c88b4ce88e8e12ae6",
       "version_major": 2,
       "version_minor": 0
      },
      "text/plain": [
       "Validation: |          | 0/? [00:00<?, ?it/s]"
      ]
     },
     "metadata": {},
     "output_type": "display_data"
    },
    {
     "data": {
      "application/vnd.jupyter.widget-view+json": {
       "model_id": "9bfa895745ba47b6ba91f6da549fe821",
       "version_major": 2,
       "version_minor": 0
      },
      "text/plain": [
       "Validation: |          | 0/? [00:00<?, ?it/s]"
      ]
     },
     "metadata": {},
     "output_type": "display_data"
    },
    {
     "data": {
      "application/vnd.jupyter.widget-view+json": {
       "model_id": "b7e91e62a4084d25b91f81dd51286b1c",
       "version_major": 2,
       "version_minor": 0
      },
      "text/plain": [
       "Validation: |          | 0/? [00:00<?, ?it/s]"
      ]
     },
     "metadata": {},
     "output_type": "display_data"
    },
    {
     "data": {
      "application/vnd.jupyter.widget-view+json": {
       "model_id": "5e0b38148ed2413a8d2acf20c602744e",
       "version_major": 2,
       "version_minor": 0
      },
      "text/plain": [
       "Validation: |          | 0/? [00:00<?, ?it/s]"
      ]
     },
     "metadata": {},
     "output_type": "display_data"
    },
    {
     "data": {
      "application/vnd.jupyter.widget-view+json": {
       "model_id": "a9b39b951bd648789ea547370f7c0bce",
       "version_major": 2,
       "version_minor": 0
      },
      "text/plain": [
       "Validation: |          | 0/? [00:00<?, ?it/s]"
      ]
     },
     "metadata": {},
     "output_type": "display_data"
    },
    {
     "data": {
      "application/vnd.jupyter.widget-view+json": {
       "model_id": "d2e00d3338454384a12bfc532b8dc6e2",
       "version_major": 2,
       "version_minor": 0
      },
      "text/plain": [
       "Validation: |          | 0/? [00:00<?, ?it/s]"
      ]
     },
     "metadata": {},
     "output_type": "display_data"
    },
    {
     "data": {
      "application/vnd.jupyter.widget-view+json": {
       "model_id": "4dc8d35ef88548aeb10b3895bb13422b",
       "version_major": 2,
       "version_minor": 0
      },
      "text/plain": [
       "Validation: |          | 0/? [00:00<?, ?it/s]"
      ]
     },
     "metadata": {},
     "output_type": "display_data"
    },
    {
     "data": {
      "application/vnd.jupyter.widget-view+json": {
       "model_id": "be9655f0646c44cfb3b0da2e67c9e298",
       "version_major": 2,
       "version_minor": 0
      },
      "text/plain": [
       "Validation: |          | 0/? [00:00<?, ?it/s]"
      ]
     },
     "metadata": {},
     "output_type": "display_data"
    },
    {
     "data": {
      "application/vnd.jupyter.widget-view+json": {
       "model_id": "306ed33ec36b480397a0a28ef7484096",
       "version_major": 2,
       "version_minor": 0
      },
      "text/plain": [
       "Validation: |          | 0/? [00:00<?, ?it/s]"
      ]
     },
     "metadata": {},
     "output_type": "display_data"
    },
    {
     "data": {
      "application/vnd.jupyter.widget-view+json": {
       "model_id": "8ed887a2d44a45f2bdc410cff608e722",
       "version_major": 2,
       "version_minor": 0
      },
      "text/plain": [
       "Validation: |          | 0/? [00:00<?, ?it/s]"
      ]
     },
     "metadata": {},
     "output_type": "display_data"
    },
    {
     "data": {
      "application/vnd.jupyter.widget-view+json": {
       "model_id": "9808fc4ff9a24ece96c9fee3b58310a1",
       "version_major": 2,
       "version_minor": 0
      },
      "text/plain": [
       "Validation: |          | 0/? [00:00<?, ?it/s]"
      ]
     },
     "metadata": {},
     "output_type": "display_data"
    },
    {
     "data": {
      "application/vnd.jupyter.widget-view+json": {
       "model_id": "4577b4938abc4ae397e43fc914b3c8b2",
       "version_major": 2,
       "version_minor": 0
      },
      "text/plain": [
       "Validation: |          | 0/? [00:00<?, ?it/s]"
      ]
     },
     "metadata": {},
     "output_type": "display_data"
    },
    {
     "data": {
      "application/vnd.jupyter.widget-view+json": {
       "model_id": "3f6ef0430fb1412da2faae1dc6abae0d",
       "version_major": 2,
       "version_minor": 0
      },
      "text/plain": [
       "Validation: |          | 0/? [00:00<?, ?it/s]"
      ]
     },
     "metadata": {},
     "output_type": "display_data"
    },
    {
     "name": "stderr",
     "output_type": "stream",
     "text": [
      "`Trainer.fit` stopped: `max_epochs=20` reached.\n"
     ]
    }
   ],
   "source": [
    "max_epochs = 20\n",
    "\n",
    "model_combined = LitModel(\n",
    "    CombinedModel(input_features=train_dataset_combined[0][0].shape[0], num_classes=2),\n",
    "    learning_rate=1e-3,\n",
    "    max_epochs=max_epochs\n",
    ")\n",
    "\n",
    "trainer_combined = L.Trainer(\n",
    "    max_epochs=max_epochs,\n",
    "    accelerator='gpu',\n",
    "    devices=1 if torch.cuda.is_available() else None,\n",
    "    precision='16-mixed',        \n",
    "    logger=False,        \n",
    "    gradient_clip_val=1.0,\n",
    "    enable_progress_bar=True,\n",
    "    num_sanity_val_steps=0\n",
    ")\n",
    "trainer_combined.fit(model_combined, train_loader_combined, val_loader_combined)"
   ]
  },
  {
   "cell_type": "code",
   "execution_count": 53,
   "id": "05697cec",
   "metadata": {},
   "outputs": [
    {
     "data": {
      "image/png": "[encoded data removed]",
      "text/plain": [
       "<Figure size 800x600 with 1 Axes>"
      ]
     },
     "metadata": {},
     "output_type": "display_data"
    }
   ],
   "source": [
    "plot_epoch_learning_curve(\n",
    "    model_combined.train_recall_mal_accum,\n",
    "    model_combined.val_recall_mal_accum,\n",
    "    title=\"Learning Curve - Combined Features (Malignant Recall)\"\n",
    ")"
   ]
  },
  {
   "cell_type": "code",
   "execution_count": 54,
   "id": "83cac737",
   "metadata": {},
   "outputs": [
    {
     "name": "stdout",
     "output_type": "stream",
     "text": [
      "\n",
      "Validation Classification Report:\n",
      "              precision    recall  f1-score   support\n",
      "\n",
      "      Benign     0.9828    1.0000    0.9913        57\n",
      "   Malignant     1.0000    0.9706    0.9851        34\n",
      "\n",
      "    accuracy                         0.9890        91\n",
      "   macro avg     0.9914    0.9853    0.9882        91\n",
      "weighted avg     0.9892    0.9890    0.9890        91\n",
      "\n",
      "\n",
      "Test Classification Report:\n",
      "              precision    recall  f1-score   support\n",
      "\n",
      "      Benign     0.9726    0.9861    0.9793        72\n",
      "   Malignant     0.9756    0.9524    0.9639        42\n",
      "\n",
      "    accuracy                         0.9737       114\n",
      "   macro avg     0.9741    0.9692    0.9716       114\n",
      "weighted avg     0.9737    0.9737    0.9736       114\n",
      "\n"
     ]
    }
   ],
   "source": [
    "y_val_true, y_val_pred = eval_classification_report(model_combined, val_loader_combined, set_name=\"Validation\")\n",
    "y_test_true, y_test_pred = eval_classification_report(model_combined, test_loader_combined, set_name=\"Test\")"
   ]
  }
 ],
 "metadata": {
  "kernelspec": {
   "display_name": "venv",
   "language": "python",
   "name": "python3"
  },
  "language_info": {
   "codemirror_mode": {
    "name": "ipython",
    "version": 3
   },
   "file_extension": ".py",
   "mimetype": "text/x-python",
   "name": "python",
   "nbconvert_exporter": "python",
   "pygments_lexer": "ipython3",
   "version": "3.12.10"
  }
 },
 "nbformat": 4,
 "nbformat_minor": 5
}
